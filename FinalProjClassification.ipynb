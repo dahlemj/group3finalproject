{
 "cells": [
  {
   "cell_type": "code",
   "execution_count": 8,
   "id": "4714d80e",
   "metadata": {},
   "outputs": [],
   "source": [
    "import numpy as np \n",
    "import pandas as pd \n",
    "import seaborn as sns \n",
    "from matplotlib import pyplot as plt "
   ]
  },
  {
   "cell_type": "code",
   "execution_count": 42,
   "id": "a428cf2c",
   "metadata": {},
   "outputs": [],
   "source": [
    "df = pd.read_csv('Country_Indicators_Response_Groups (1).csv')"
   ]
  },
  {
   "cell_type": "code",
   "execution_count": 43,
   "id": "96012ccb",
   "metadata": {},
   "outputs": [
    {
     "data": {
      "text/html": [
       "<div>\n",
       "<style scoped>\n",
       "    .dataframe tbody tr th:only-of-type {\n",
       "        vertical-align: middle;\n",
       "    }\n",
       "\n",
       "    .dataframe tbody tr th {\n",
       "        vertical-align: top;\n",
       "    }\n",
       "\n",
       "    .dataframe thead th {\n",
       "        text-align: right;\n",
       "    }\n",
       "</style>\n",
       "<table border=\"1\" class=\"dataframe\">\n",
       "  <thead>\n",
       "    <tr style=\"text-align: right;\">\n",
       "      <th></th>\n",
       "      <th>Unnamed: 0</th>\n",
       "      <th>Country Name</th>\n",
       "      <th>Agriculture, forestry, and fishing, value added (% of GDP)</th>\n",
       "      <th>Agriculture, forestry, and fishing, value added (annual % growth)</th>\n",
       "      <th>Exports of goods and services (% of GDP)</th>\n",
       "      <th>Exports of goods and services (annual % growth)</th>\n",
       "      <th>Final consumption expenditure (% of GDP)</th>\n",
       "      <th>Final consumption expenditure (annual % growth)</th>\n",
       "      <th>GDP (current US$)</th>\n",
       "      <th>GDP growth (annual %)</th>\n",
       "      <th>Gross capital formation (% of GDP)</th>\n",
       "      <th>Gross capital formation (annual % growth)</th>\n",
       "      <th>Imports of goods and services (% of GDP)</th>\n",
       "      <th>Imports of goods and services (annual % growth)</th>\n",
       "      <th>Industry (including construction), value added (% of GDP)</th>\n",
       "      <th>Industry (including construction), value added (annual % growth)</th>\n",
       "      <th>Manufacturing, value added (annual % growth)</th>\n",
       "      <th>Services, value added (% of GDP)</th>\n",
       "      <th>Services, value added (annual % growth)</th>\n",
       "      <th>Response Group</th>\n",
       "    </tr>\n",
       "  </thead>\n",
       "  <tbody>\n",
       "    <tr>\n",
       "      <th>0</th>\n",
       "      <td>0</td>\n",
       "      <td>Argentina</td>\n",
       "      <td>5.932404</td>\n",
       "      <td>-7.135723</td>\n",
       "      <td>16.591817</td>\n",
       "      <td>-17.326848</td>\n",
       "      <td>79.051086</td>\n",
       "      <td>-12.051155</td>\n",
       "      <td>3.895910e+11</td>\n",
       "      <td>-9.895269</td>\n",
       "      <td>14.019730</td>\n",
       "      <td>-11.016885</td>\n",
       "      <td>13.556325</td>\n",
       "      <td>-17.865058</td>\n",
       "      <td>23.311218</td>\n",
       "      <td>-9.369053</td>\n",
       "      <td>-7.760650</td>\n",
       "      <td>54.612674</td>\n",
       "      <td>-10.592109</td>\n",
       "      <td>3</td>\n",
       "    </tr>\n",
       "    <tr>\n",
       "      <th>1</th>\n",
       "      <td>1</td>\n",
       "      <td>Australia</td>\n",
       "      <td>2.006092</td>\n",
       "      <td>-10.068572</td>\n",
       "      <td>23.983854</td>\n",
       "      <td>-1.741033</td>\n",
       "      <td>73.802872</td>\n",
       "      <td>-0.416539</td>\n",
       "      <td>1.327836e+12</td>\n",
       "      <td>-0.003837</td>\n",
       "      <td>22.268947</td>\n",
       "      <td>5.717291</td>\n",
       "      <td>20.055673</td>\n",
       "      <td>-7.666706</td>\n",
       "      <td>25.462096</td>\n",
       "      <td>0.049462</td>\n",
       "      <td>-1.370961</td>\n",
       "      <td>66.280808</td>\n",
       "      <td>0.643603</td>\n",
       "      <td>2</td>\n",
       "    </tr>\n",
       "    <tr>\n",
       "      <th>2</th>\n",
       "      <td>2</td>\n",
       "      <td>Austria</td>\n",
       "      <td>1.099909</td>\n",
       "      <td>-3.060587</td>\n",
       "      <td>51.435008</td>\n",
       "      <td>-10.759174</td>\n",
       "      <td>71.324373</td>\n",
       "      <td>-6.273300</td>\n",
       "      <td>4.332585e+11</td>\n",
       "      <td>-6.734514</td>\n",
       "      <td>25.901203</td>\n",
       "      <td>-4.646383</td>\n",
       "      <td>48.563935</td>\n",
       "      <td>-9.376541</td>\n",
       "      <td>25.457853</td>\n",
       "      <td>-5.659447</td>\n",
       "      <td>-6.997076</td>\n",
       "      <td>63.145665</td>\n",
       "      <td>-7.303380</td>\n",
       "      <td>3</td>\n",
       "    </tr>\n",
       "    <tr>\n",
       "      <th>3</th>\n",
       "      <td>3</td>\n",
       "      <td>Belgium</td>\n",
       "      <td>0.638362</td>\n",
       "      <td>-6.824667</td>\n",
       "      <td>80.042038</td>\n",
       "      <td>-5.459022</td>\n",
       "      <td>74.395963</td>\n",
       "      <td>-5.796638</td>\n",
       "      <td>5.216769e+11</td>\n",
       "      <td>-5.680734</td>\n",
       "      <td>24.197411</td>\n",
       "      <td>-6.928552</td>\n",
       "      <td>78.635413</td>\n",
       "      <td>-5.944309</td>\n",
       "      <td>19.479300</td>\n",
       "      <td>-3.093288</td>\n",
       "      <td>-3.687455</td>\n",
       "      <td>69.588938</td>\n",
       "      <td>-5.888087</td>\n",
       "      <td>2</td>\n",
       "    </tr>\n",
       "    <tr>\n",
       "      <th>4</th>\n",
       "      <td>4</td>\n",
       "      <td>Brazil</td>\n",
       "      <td>5.893246</td>\n",
       "      <td>3.753746</td>\n",
       "      <td>16.795068</td>\n",
       "      <td>-1.842905</td>\n",
       "      <td>83.369693</td>\n",
       "      <td>-5.223752</td>\n",
       "      <td>1.448566e+12</td>\n",
       "      <td>-3.878676</td>\n",
       "      <td>15.930622</td>\n",
       "      <td>-4.026255</td>\n",
       "      <td>16.095384</td>\n",
       "      <td>-9.840618</td>\n",
       "      <td>17.701653</td>\n",
       "      <td>-3.400928</td>\n",
       "      <td>-4.357614</td>\n",
       "      <td>62.795211</td>\n",
       "      <td>-4.344701</td>\n",
       "      <td>2</td>\n",
       "    </tr>\n",
       "  </tbody>\n",
       "</table>\n",
       "</div>"
      ],
      "text/plain": [
       "   Unnamed: 0 Country Name  \\\n",
       "0           0    Argentina   \n",
       "1           1    Australia   \n",
       "2           2      Austria   \n",
       "3           3      Belgium   \n",
       "4           4       Brazil   \n",
       "\n",
       "   Agriculture, forestry, and fishing, value added (% of GDP)  \\\n",
       "0                                           5.932404            \n",
       "1                                           2.006092            \n",
       "2                                           1.099909            \n",
       "3                                           0.638362            \n",
       "4                                           5.893246            \n",
       "\n",
       "   Agriculture, forestry, and fishing, value added (annual % growth)  \\\n",
       "0                                          -7.135723                   \n",
       "1                                         -10.068572                   \n",
       "2                                          -3.060587                   \n",
       "3                                          -6.824667                   \n",
       "4                                           3.753746                   \n",
       "\n",
       "   Exports of goods and services (% of GDP)  \\\n",
       "0                                 16.591817   \n",
       "1                                 23.983854   \n",
       "2                                 51.435008   \n",
       "3                                 80.042038   \n",
       "4                                 16.795068   \n",
       "\n",
       "   Exports of goods and services (annual % growth)  \\\n",
       "0                                       -17.326848   \n",
       "1                                        -1.741033   \n",
       "2                                       -10.759174   \n",
       "3                                        -5.459022   \n",
       "4                                        -1.842905   \n",
       "\n",
       "   Final consumption expenditure (% of GDP)  \\\n",
       "0                                 79.051086   \n",
       "1                                 73.802872   \n",
       "2                                 71.324373   \n",
       "3                                 74.395963   \n",
       "4                                 83.369693   \n",
       "\n",
       "   Final consumption expenditure (annual % growth)  GDP (current US$)  \\\n",
       "0                                       -12.051155       3.895910e+11   \n",
       "1                                        -0.416539       1.327836e+12   \n",
       "2                                        -6.273300       4.332585e+11   \n",
       "3                                        -5.796638       5.216769e+11   \n",
       "4                                        -5.223752       1.448566e+12   \n",
       "\n",
       "   GDP growth (annual %)  Gross capital formation (% of GDP)  \\\n",
       "0              -9.895269                           14.019730   \n",
       "1              -0.003837                           22.268947   \n",
       "2              -6.734514                           25.901203   \n",
       "3              -5.680734                           24.197411   \n",
       "4              -3.878676                           15.930622   \n",
       "\n",
       "   Gross capital formation (annual % growth)  \\\n",
       "0                                 -11.016885   \n",
       "1                                   5.717291   \n",
       "2                                  -4.646383   \n",
       "3                                  -6.928552   \n",
       "4                                  -4.026255   \n",
       "\n",
       "   Imports of goods and services (% of GDP)  \\\n",
       "0                                 13.556325   \n",
       "1                                 20.055673   \n",
       "2                                 48.563935   \n",
       "3                                 78.635413   \n",
       "4                                 16.095384   \n",
       "\n",
       "   Imports of goods and services (annual % growth)  \\\n",
       "0                                       -17.865058   \n",
       "1                                        -7.666706   \n",
       "2                                        -9.376541   \n",
       "3                                        -5.944309   \n",
       "4                                        -9.840618   \n",
       "\n",
       "   Industry (including construction), value added (% of GDP)  \\\n",
       "0                                          23.311218           \n",
       "1                                          25.462096           \n",
       "2                                          25.457853           \n",
       "3                                          19.479300           \n",
       "4                                          17.701653           \n",
       "\n",
       "   Industry (including construction), value added (annual % growth)  \\\n",
       "0                                          -9.369053                  \n",
       "1                                           0.049462                  \n",
       "2                                          -5.659447                  \n",
       "3                                          -3.093288                  \n",
       "4                                          -3.400928                  \n",
       "\n",
       "   Manufacturing, value added (annual % growth)  \\\n",
       "0                                     -7.760650   \n",
       "1                                     -1.370961   \n",
       "2                                     -6.997076   \n",
       "3                                     -3.687455   \n",
       "4                                     -4.357614   \n",
       "\n",
       "   Services, value added (% of GDP)  Services, value added (annual % growth)  \\\n",
       "0                         54.612674                               -10.592109   \n",
       "1                         66.280808                                 0.643603   \n",
       "2                         63.145665                                -7.303380   \n",
       "3                         69.588938                                -5.888087   \n",
       "4                         62.795211                                -4.344701   \n",
       "\n",
       "   Response Group  \n",
       "0               3  \n",
       "1               2  \n",
       "2               3  \n",
       "3               2  \n",
       "4               2  "
      ]
     },
     "execution_count": 43,
     "metadata": {},
     "output_type": "execute_result"
    }
   ],
   "source": [
    "df.head()"
   ]
  },
  {
   "cell_type": "code",
   "execution_count": 44,
   "id": "ff19cc38",
   "metadata": {},
   "outputs": [],
   "source": [
    "from sklearn.model_selection import train_test_split"
   ]
  },
  {
   "cell_type": "code",
   "execution_count": 45,
   "id": "a380e19a",
   "metadata": {},
   "outputs": [],
   "source": [
    "X = df.drop(columns = ['Response Group', 'Country Name', 'Unnamed: 0'])\n",
    "y = df['Response Group']"
   ]
  },
  {
   "cell_type": "code",
   "execution_count": 46,
   "id": "64bdf2ff",
   "metadata": {},
   "outputs": [
    {
     "data": {
      "text/plain": [
       "((40, 17), (40,))"
      ]
     },
     "execution_count": 46,
     "metadata": {},
     "output_type": "execute_result"
    }
   ],
   "source": [
    "X.shape, y.shape"
   ]
  },
  {
   "cell_type": "code",
   "execution_count": 47,
   "id": "9962ea17",
   "metadata": {},
   "outputs": [],
   "source": [
    "from sklearn import tree"
   ]
  },
  {
   "cell_type": "code",
   "execution_count": 48,
   "id": "20479e44",
   "metadata": {},
   "outputs": [],
   "source": [
    "X_train, X_test, y_train, y_test = train_test_split(X, y, test_size = 0.20)"
   ]
  },
  {
   "cell_type": "code",
   "execution_count": 49,
   "id": "1898f63e",
   "metadata": {},
   "outputs": [],
   "source": [
    "clf = tree.DecisionTreeClassifier()\n",
    "clf = clf.fit(X_train, y_train)"
   ]
  },
  {
   "cell_type": "code",
   "execution_count": 54,
   "id": "9582f89d",
   "metadata": {},
   "outputs": [
    {
     "data": {
      "image/png": "[encoded data removed]",
      "text/plain": [
       "<Figure size 640x480 with 1 Axes>"
      ]
     },
     "metadata": {},
     "output_type": "display_data"
    }
   ],
   "source": [
    "\n",
    "tree.plot_tree(clf, filled = True)\n",
    "plt.show()"
   ]
  },
  {
   "cell_type": "code",
   "execution_count": 55,
   "id": "d6980872",
   "metadata": {},
   "outputs": [
    {
     "data": {
      "text/plain": [
       "0.5"
      ]
     },
     "execution_count": 55,
     "metadata": {},
     "output_type": "execute_result"
    }
   ],
   "source": [
    "clf.score(X_test, y_test)"
   ]
  },
  {
   "cell_type": "code",
   "execution_count": 61,
   "id": "518a9dec",
   "metadata": {},
   "outputs": [],
   "source": [
    "from sklearn.model_selection import train_test_split\n",
    "from sklearn.metrics import classification_report\n",
    "from sklearn.metrics import confusion_matrix"
   ]
  },
  {
   "cell_type": "code",
   "execution_count": 62,
   "id": "71e9cdc7",
   "metadata": {},
   "outputs": [
    {
     "name": "stdout",
     "output_type": "stream",
     "text": [
      "              precision    recall  f1-score   support\n",
      "\n",
      "           2       0.38      1.00      0.55         3\n",
      "           3       0.00      0.00      0.00         5\n",
      "\n",
      "    accuracy                           0.38         8\n",
      "   macro avg       0.19      0.50      0.27         8\n",
      "weighted avg       0.14      0.38      0.20         8\n",
      "\n",
      "[[3 0]\n",
      " [5 0]]\n",
      "Logistic Regression accuracy is: 37.50%\n"
     ]
    },
    {
     "name": "stderr",
     "output_type": "stream",
     "text": [
      "C:\\Users\\Ishan\\anaconda3\\lib\\site-packages\\sklearn\\metrics\\_classification.py:1318: UndefinedMetricWarning: Precision and F-score are ill-defined and being set to 0.0 in labels with no predicted samples. Use `zero_division` parameter to control this behavior.\n",
      "  _warn_prf(average, modifier, msg_start, len(result))\n",
      "C:\\Users\\Ishan\\anaconda3\\lib\\site-packages\\sklearn\\metrics\\_classification.py:1318: UndefinedMetricWarning: Precision and F-score are ill-defined and being set to 0.0 in labels with no predicted samples. Use `zero_division` parameter to control this behavior.\n",
      "  _warn_prf(average, modifier, msg_start, len(result))\n",
      "C:\\Users\\Ishan\\anaconda3\\lib\\site-packages\\sklearn\\metrics\\_classification.py:1318: UndefinedMetricWarning: Precision and F-score are ill-defined and being set to 0.0 in labels with no predicted samples. Use `zero_division` parameter to control this behavior.\n",
      "  _warn_prf(average, modifier, msg_start, len(result))\n"
     ]
    }
   ],
   "source": [
    "from sklearn.linear_model import LogisticRegression\n",
    "\n",
    "LRclassifier = LogisticRegression(solver='liblinear', max_iter=5000)\n",
    "LRclassifier.fit(X_train, y_train)\n",
    "\n",
    "y_pred = LRclassifier.predict(X_test)\n",
    "\n",
    "print(classification_report(y_test, y_pred))\n",
    "print(confusion_matrix(y_test, y_pred))\n",
    "\n",
    "from sklearn.metrics import accuracy_score\n",
    "\n",
    "LRAcc = accuracy_score(y_pred,y_test)\n",
    "print('Logistic Regression accuracy is: {:.2f}%'.format(LRAcc*100))"
   ]
  },
  {
   "cell_type": "code",
   "execution_count": 64,
   "id": "469aba3b",
   "metadata": {},
   "outputs": [
    {
     "name": "stdout",
     "output_type": "stream",
     "text": [
      "              precision    recall  f1-score   support\n",
      "\n",
      "           2       0.38      1.00      0.55         3\n",
      "           3       0.00      0.00      0.00         5\n",
      "\n",
      "    accuracy                           0.38         8\n",
      "   macro avg       0.19      0.50      0.27         8\n",
      "weighted avg       0.14      0.38      0.20         8\n",
      "\n",
      "[[3 0]\n",
      " [5 0]]\n",
      "K Neighbours accuracy is: 37.50%\n"
     ]
    },
    {
     "name": "stderr",
     "output_type": "stream",
     "text": [
      "C:\\Users\\Ishan\\anaconda3\\lib\\site-packages\\sklearn\\neighbors\\_classification.py:228: FutureWarning: Unlike other reduction functions (e.g. `skew`, `kurtosis`), the default behavior of `mode` typically preserves the axis it acts along. In SciPy 1.11.0, this behavior will change: the default value of `keepdims` will become False, the `axis` over which the statistic is taken will be eliminated, and the value None will no longer be accepted. Set `keepdims` to True or False to avoid this warning.\n",
      "  mode, _ = stats.mode(_y[neigh_ind, k], axis=1)\n",
      "C:\\Users\\Ishan\\anaconda3\\lib\\site-packages\\sklearn\\metrics\\_classification.py:1318: UndefinedMetricWarning: Precision and F-score are ill-defined and being set to 0.0 in labels with no predicted samples. Use `zero_division` parameter to control this behavior.\n",
      "  _warn_prf(average, modifier, msg_start, len(result))\n",
      "C:\\Users\\Ishan\\anaconda3\\lib\\site-packages\\sklearn\\metrics\\_classification.py:1318: UndefinedMetricWarning: Precision and F-score are ill-defined and being set to 0.0 in labels with no predicted samples. Use `zero_division` parameter to control this behavior.\n",
      "  _warn_prf(average, modifier, msg_start, len(result))\n",
      "C:\\Users\\Ishan\\anaconda3\\lib\\site-packages\\sklearn\\metrics\\_classification.py:1318: UndefinedMetricWarning: Precision and F-score are ill-defined and being set to 0.0 in labels with no predicted samples. Use `zero_division` parameter to control this behavior.\n",
      "  _warn_prf(average, modifier, msg_start, len(result))\n"
     ]
    }
   ],
   "source": [
    "from sklearn.neighbors import KNeighborsClassifier\n",
    "\n",
    "KNclassifier = KNeighborsClassifier(n_neighbors=20)\n",
    "KNclassifier.fit(X_train, y_train)\n",
    "\n",
    "y_pred = KNclassifier.predict(X_test)\n",
    "\n",
    "print(classification_report(y_test, y_pred))\n",
    "print(confusion_matrix(y_test, y_pred))\n",
    "\n",
    "KNAcc = accuracy_score(y_pred,y_test)\n",
    "print('K Neighbours accuracy is: {:.2f}%'.format(KNAcc*100))"
   ]
  },
  {
   "cell_type": "code",
   "execution_count": null,
   "id": "cd213a58",
   "metadata": {},
   "outputs": [],
   "source": []
  }
 ],
 "metadata": {
  "kernelspec": {
   "display_name": "Python 3 (ipykernel)",
   "language": "python",
   "name": "python3"
  },
  "language_info": {
   "codemirror_mode": {
    "name": "ipython",
    "version": 3
   },
   "file_extension": ".py",
   "mimetype": "text/x-python",
   "name": "python",
   "nbconvert_exporter": "python",
   "pygments_lexer": "ipython3",
   "version": "3.9.13"
  }
 },
 "nbformat": 4,
 "nbformat_minor": 5
}
